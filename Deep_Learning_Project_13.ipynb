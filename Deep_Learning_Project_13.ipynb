{
  "nbformat": 4,
  "nbformat_minor": 0,
  "metadata": {
    "colab": {
      "name": "Deep Learning Project -13.ipynb",
      "provenance": [],
      "collapsed_sections": []
    },
    "kernelspec": {
      "name": "python3",
      "display_name": "Python 3"
    },
    "language_info": {
      "name": "python"
    }
  },
  "cells": [
    {
      "cell_type": "markdown",
      "metadata": {
        "id": "Eo0T-iFf7Vv-"
      },
      "source": [
        "##SARCASM Classification(Sentiment Analysis)"
      ]
    },
    {
      "cell_type": "markdown",
      "metadata": {
        "id": "omj8-4g27xKp"
      },
      "source": [
        "Collection `Data` from JSON"
      ]
    },
    {
      "cell_type": "code",
      "metadata": {
        "id": "uHEF9l1a7Qv_"
      },
      "source": [
        "import json"
      ],
      "execution_count": 1,
      "outputs": []
    },
    {
      "cell_type": "code",
      "metadata": {
        "id": "_j36bisu7-wk"
      },
      "source": [
        "with open(\"Sarcasm_Headlines_Dataset_v2.json\", \"r\") as f:\n",
        "  corpas = f.readlines()\n",
        "f.close()"
      ],
      "execution_count": 9,
      "outputs": []
    },
    {
      "cell_type": "code",
      "metadata": {
        "id": "I57C4uWM7_WS"
      },
      "source": [
        "sentences, labels, urls = [], [], []\n",
        "for item in corpas:\n",
        "  item = json.loads(item)\n",
        "  sentences.append(item['headline'])\n",
        "  labels.append(item['is_sarcastic'])\n",
        "  urls.append(item['article_link'])"
      ],
      "execution_count": 11,
      "outputs": []
    },
    {
      "cell_type": "code",
      "metadata": {
        "colab": {
          "base_uri": "https://localhost:8080/"
        },
        "id": "P8TQhiXn9Qlp",
        "outputId": "cf200ec4-fa6d-4a9f-9783-3e635b003b59"
      },
      "source": [
        "print(len(sentences), len(labels), len(urls))"
      ],
      "execution_count": 12,
      "outputs": [
        {
          "output_type": "stream",
          "text": [
            "28619 28619 28619\n"
          ],
          "name": "stdout"
        }
      ]
    },
    {
      "cell_type": "markdown",
      "metadata": {
        "id": "CEHNcg1f-kJu"
      },
      "source": [
        "`Preprocessing` on TEXT"
      ]
    },
    {
      "cell_type": "code",
      "metadata": {
        "id": "8mzWP_nD-cGS"
      },
      "source": [
        "from tensorflow.keras.preprocessing.text import Tokenizer\n",
        "from tensorflow.keras.preprocessing.sequence import pad_sequences"
      ],
      "execution_count": 13,
      "outputs": []
    },
    {
      "cell_type": "code",
      "metadata": {
        "id": "dFeGv0oz-wPg"
      },
      "source": [
        "tokenizer = Tokenizer(oov_token=\"<OOV>\")\n",
        "tokenizer.fit_on_texts(sentences)\n",
        "word_index = tokenizer.word_index"
      ],
      "execution_count": 14,
      "outputs": []
    },
    {
      "cell_type": "code",
      "metadata": {
        "id": "76-AZMXj-9bu"
      },
      "source": [
        "sequences = tokenizer.texts_to_sequences(sentences)\n",
        "padded = pad_sequences(sequences, padding='post')"
      ],
      "execution_count": 15,
      "outputs": []
    },
    {
      "cell_type": "code",
      "metadata": {
        "colab": {
          "base_uri": "https://localhost:8080/"
        },
        "id": "08leMz8R_JUu",
        "outputId": "d8b211be-fe7b-47c9-878e-7ed6d27c10d8"
      },
      "source": [
        "print(padded[0])\n",
        "print(padded.shape)"
      ],
      "execution_count": 16,
      "outputs": [
        {
          "output_type": "stream",
          "text": [
            "[16004   355  3167  7474  2644     3   661  1119     0     0     0     0\n",
            "     0     0     0     0     0     0     0     0     0     0     0     0\n",
            "     0     0     0     0     0     0     0     0     0     0     0     0\n",
            "     0     0     0     0     0     0     0     0     0     0     0     0\n",
            "     0     0     0     0     0     0     0     0     0     0     0     0\n",
            "     0     0     0     0     0     0     0     0     0     0     0     0\n",
            "     0     0     0     0     0     0     0     0     0     0     0     0\n",
            "     0     0     0     0     0     0     0     0     0     0     0     0\n",
            "     0     0     0     0     0     0     0     0     0     0     0     0\n",
            "     0     0     0     0     0     0     0     0     0     0     0     0\n",
            "     0     0     0     0     0     0     0     0     0     0     0     0\n",
            "     0     0     0     0     0     0     0     0     0     0     0     0\n",
            "     0     0     0     0     0     0     0     0]\n",
            "(28619, 152)\n"
          ],
          "name": "stdout"
        }
      ]
    },
    {
      "cell_type": "markdown",
      "metadata": {
        "id": "8asHFhMf_aDF"
      },
      "source": [
        "`Spliting` Data"
      ]
    },
    {
      "cell_type": "code",
      "metadata": {
        "id": "HYKR4wiBApN-"
      },
      "source": [
        "training_size = 22000\n",
        "vocab_size = 10000\n",
        "embedding_dim = 16\n",
        "max_length = 160\n",
        "trunc_type='post'\n",
        "padding_type='post'\n",
        "oov_tok = \"<OOV>\""
      ],
      "execution_count": 24,
      "outputs": []
    },
    {
      "cell_type": "code",
      "metadata": {
        "id": "kaCOiRdf_Mbd"
      },
      "source": [
        "training_sentences = sentences[0:training_size]\n",
        "testing_sentences = sentences[training_size:]\n",
        "training_labels = labels[0:training_size]\n",
        "testing_labels = labels[training_size:]"
      ],
      "execution_count": 50,
      "outputs": []
    },
    {
      "cell_type": "markdown",
      "metadata": {
        "id": "a7ax3gxB_-jp"
      },
      "source": [
        "Changing Our Code"
      ]
    },
    {
      "cell_type": "code",
      "metadata": {
        "id": "EDBr5QcD_2P6"
      },
      "source": [
        "tokenizer = Tokenizer(num_words=vocab_size, oov_token=oov_tok)\n",
        "tokenizer.fit_on_texts(training_sentences)\n",
        "\n",
        "word_index = tokenizer.word_index\n",
        "\n",
        "training_sequences = tokenizer.texts_to_sequences(training_sentences)\n",
        "training_padded = pad_sequences(training_sequences, maxlen=max_length, padding=padding_type, truncating=trunc_type)\n",
        "\n",
        "testing_sequences = tokenizer.texts_to_sequences(testing_sentences)\n",
        "testing_padded = pad_sequences(testing_sequences, maxlen=max_length, padding=padding_type, truncating=trunc_type)"
      ],
      "execution_count": 51,
      "outputs": []
    },
    {
      "cell_type": "code",
      "metadata": {
        "id": "8-fE-gFcAyf5"
      },
      "source": [
        "import numpy as np\n",
        "training_padded = np.array(training_padded)\n",
        "training_labels = np.array(training_labels)\n",
        "testing_padded = np.array(testing_padded)\n",
        "testing_labels = np.array(testing_labels)"
      ],
      "execution_count": 52,
      "outputs": []
    },
    {
      "cell_type": "code",
      "metadata": {
        "colab": {
          "base_uri": "https://localhost:8080/"
        },
        "id": "55ubeO4XDDfC",
        "outputId": "483120fc-f14f-446c-b2fd-51212e0ee746"
      },
      "source": [
        "training_labels.dtype"
      ],
      "execution_count": 53,
      "outputs": [
        {
          "output_type": "execute_result",
          "data": {
            "text/plain": [
              "dtype('int64')"
            ]
          },
          "metadata": {
            "tags": []
          },
          "execution_count": 53
        }
      ]
    },
    {
      "cell_type": "code",
      "metadata": {
        "id": "Oi79athMB7m_"
      },
      "source": [
        "import tensorflow as tf"
      ],
      "execution_count": 54,
      "outputs": []
    },
    {
      "cell_type": "code",
      "metadata": {
        "id": "QbsdwJbKA2YZ"
      },
      "source": [
        "model = tf.keras.Sequential([\n",
        "    tf.keras.layers.Embedding(vocab_size, embedding_dim, input_length=max_length),\n",
        "    tf.keras.layers.GlobalAveragePooling1D(),\n",
        "    tf.keras.layers.Dense(24, activation='relu'),\n",
        "    tf.keras.layers.Dense(1, activation='sigmoid')                  \n",
        "])"
      ],
      "execution_count": 55,
      "outputs": []
    },
    {
      "cell_type": "code",
      "metadata": {
        "colab": {
          "base_uri": "https://localhost:8080/"
        },
        "id": "DWQ_VCYVCRU7",
        "outputId": "83dcf7d7-5a84-4f53-ad6e-d8edeb8ec908"
      },
      "source": [
        "model.summary()"
      ],
      "execution_count": 56,
      "outputs": [
        {
          "output_type": "stream",
          "text": [
            "Model: \"sequential_1\"\n",
            "_________________________________________________________________\n",
            "Layer (type)                 Output Shape              Param #   \n",
            "=================================================================\n",
            "embedding_1 (Embedding)      (None, 160, 16)           160000    \n",
            "_________________________________________________________________\n",
            "global_average_pooling1d_1 ( (None, 16)                0         \n",
            "_________________________________________________________________\n",
            "dense_2 (Dense)              (None, 24)                408       \n",
            "_________________________________________________________________\n",
            "dense_3 (Dense)              (None, 1)                 25        \n",
            "=================================================================\n",
            "Total params: 160,433\n",
            "Trainable params: 160,433\n",
            "Non-trainable params: 0\n",
            "_________________________________________________________________\n"
          ],
          "name": "stdout"
        }
      ]
    },
    {
      "cell_type": "code",
      "metadata": {
        "id": "zopyBF74CSR0"
      },
      "source": [
        "model.compile(loss='binary_crossentropy',optimizer='adam',metrics=['accuracy'])"
      ],
      "execution_count": 57,
      "outputs": []
    },
    {
      "cell_type": "code",
      "metadata": {
        "colab": {
          "base_uri": "https://localhost:8080/"
        },
        "id": "JQ4-wJVvCUml",
        "outputId": "2b3a01e7-7223-4384-914e-dfc1fedb18cb"
      },
      "source": [
        "num_epochs = 30\n",
        "history = model.fit(training_padded, training_labels, epochs=num_epochs, validation_data=(testing_padded, testing_labels), verbose=2)"
      ],
      "execution_count": 58,
      "outputs": [
        {
          "output_type": "stream",
          "text": [
            "Epoch 1/30\n",
            "688/688 - 3s - loss: 0.6702 - accuracy: 0.5972 - val_loss: 0.5830 - val_accuracy: 0.8078\n",
            "Epoch 2/30\n",
            "688/688 - 2s - loss: 0.4460 - accuracy: 0.8263 - val_loss: 0.3872 - val_accuracy: 0.8370\n",
            "Epoch 3/30\n",
            "688/688 - 3s - loss: 0.3285 - accuracy: 0.8660 - val_loss: 0.3545 - val_accuracy: 0.8473\n",
            "Epoch 4/30\n",
            "688/688 - 3s - loss: 0.2783 - accuracy: 0.8893 - val_loss: 0.3378 - val_accuracy: 0.8533\n",
            "Epoch 5/30\n",
            "688/688 - 2s - loss: 0.2437 - accuracy: 0.9045 - val_loss: 0.3316 - val_accuracy: 0.8571\n",
            "Epoch 6/30\n",
            "688/688 - 2s - loss: 0.2186 - accuracy: 0.9166 - val_loss: 0.3343 - val_accuracy: 0.8577\n",
            "Epoch 7/30\n",
            "688/688 - 2s - loss: 0.1966 - accuracy: 0.9249 - val_loss: 0.3423 - val_accuracy: 0.8571\n",
            "Epoch 8/30\n",
            "688/688 - 2s - loss: 0.1783 - accuracy: 0.9332 - val_loss: 0.3558 - val_accuracy: 0.8536\n",
            "Epoch 9/30\n",
            "688/688 - 2s - loss: 0.1634 - accuracy: 0.9399 - val_loss: 0.3647 - val_accuracy: 0.8524\n",
            "Epoch 10/30\n",
            "688/688 - 2s - loss: 0.1519 - accuracy: 0.9440 - val_loss: 0.3789 - val_accuracy: 0.8513\n",
            "Epoch 11/30\n",
            "688/688 - 2s - loss: 0.1398 - accuracy: 0.9494 - val_loss: 0.3971 - val_accuracy: 0.8464\n",
            "Epoch 12/30\n",
            "688/688 - 2s - loss: 0.1282 - accuracy: 0.9556 - val_loss: 0.4157 - val_accuracy: 0.8447\n",
            "Epoch 13/30\n",
            "688/688 - 2s - loss: 0.1193 - accuracy: 0.9581 - val_loss: 0.4552 - val_accuracy: 0.8386\n",
            "Epoch 14/30\n",
            "688/688 - 2s - loss: 0.1126 - accuracy: 0.9615 - val_loss: 0.4572 - val_accuracy: 0.8385\n",
            "Epoch 15/30\n",
            "688/688 - 2s - loss: 0.1032 - accuracy: 0.9650 - val_loss: 0.4785 - val_accuracy: 0.8358\n",
            "Epoch 16/30\n",
            "688/688 - 2s - loss: 0.0967 - accuracy: 0.9670 - val_loss: 0.5036 - val_accuracy: 0.8317\n",
            "Epoch 17/30\n",
            "688/688 - 2s - loss: 0.0920 - accuracy: 0.9692 - val_loss: 0.5262 - val_accuracy: 0.8288\n",
            "Epoch 18/30\n",
            "688/688 - 2s - loss: 0.0847 - accuracy: 0.9717 - val_loss: 0.6260 - val_accuracy: 0.8192\n",
            "Epoch 19/30\n",
            "688/688 - 2s - loss: 0.0813 - accuracy: 0.9733 - val_loss: 0.5935 - val_accuracy: 0.8243\n",
            "Epoch 20/30\n",
            "688/688 - 2s - loss: 0.0734 - accuracy: 0.9769 - val_loss: 0.6330 - val_accuracy: 0.8195\n",
            "Epoch 21/30\n",
            "688/688 - 2s - loss: 0.0708 - accuracy: 0.9780 - val_loss: 0.6279 - val_accuracy: 0.8235\n",
            "Epoch 22/30\n",
            "688/688 - 2s - loss: 0.0667 - accuracy: 0.9785 - val_loss: 0.6712 - val_accuracy: 0.8186\n",
            "Epoch 23/30\n",
            "688/688 - 3s - loss: 0.0599 - accuracy: 0.9808 - val_loss: 0.6824 - val_accuracy: 0.8211\n",
            "Epoch 24/30\n",
            "688/688 - 3s - loss: 0.0592 - accuracy: 0.9818 - val_loss: 0.7641 - val_accuracy: 0.8122\n",
            "Epoch 25/30\n",
            "688/688 - 3s - loss: 0.0555 - accuracy: 0.9819 - val_loss: 0.7552 - val_accuracy: 0.8149\n",
            "Epoch 26/30\n",
            "688/688 - 2s - loss: 0.0513 - accuracy: 0.9842 - val_loss: 0.7840 - val_accuracy: 0.8139\n",
            "Epoch 27/30\n",
            "688/688 - 2s - loss: 0.0501 - accuracy: 0.9840 - val_loss: 0.8186 - val_accuracy: 0.8115\n",
            "Epoch 28/30\n",
            "688/688 - 2s - loss: 0.0460 - accuracy: 0.9855 - val_loss: 0.8213 - val_accuracy: 0.8121\n",
            "Epoch 29/30\n",
            "688/688 - 2s - loss: 0.0443 - accuracy: 0.9873 - val_loss: 0.8475 - val_accuracy: 0.8121\n",
            "Epoch 30/30\n",
            "688/688 - 3s - loss: 0.0413 - accuracy: 0.9868 - val_loss: 0.8928 - val_accuracy: 0.8092\n"
          ],
          "name": "stdout"
        }
      ]
    },
    {
      "cell_type": "code",
      "metadata": {
        "colab": {
          "base_uri": "https://localhost:8080/",
          "height": 542
        },
        "id": "aLggpfc1CXZj",
        "outputId": "44f0ced2-f487-40cc-8037-4e36f30d6a8f"
      },
      "source": [
        "import matplotlib.pyplot as plt\n",
        "\n",
        "\n",
        "def plot_graphs(history, string):\n",
        "  plt.plot(history.history[string])\n",
        "  plt.plot(history.history['val_'+string])\n",
        "  plt.xlabel(\"Epochs\")\n",
        "  plt.ylabel(string)\n",
        "  plt.legend([string, 'val_'+string])\n",
        "  plt.show()\n",
        "  \n",
        "plot_graphs(history, \"accuracy\")\n",
        "plot_graphs(history, \"loss\")"
      ],
      "execution_count": 59,
      "outputs": [
        {
          "output_type": "display_data",
          "data": {
            "image/png": "[encoded data removed]",
            "text/plain": [
              "<Figure size 432x288 with 1 Axes>"
            ]
          },
          "metadata": {
            "tags": [],
            "needs_background": "light"
          }
        },
        {
          "output_type": "display_data",
          "data": {
            "image/png": "[encoded data removed]",
            "text/plain": [
              "<Figure size 432x288 with 1 Axes>"
            ]
          },
          "metadata": {
            "tags": [],
            "needs_background": "light"
          }
        }
      ]
    },
    {
      "cell_type": "code",
      "metadata": {
        "colab": {
          "base_uri": "https://localhost:8080/"
        },
        "id": "3xG6MJhTFiI8",
        "outputId": "011d6366-f4a3-49ee-cd6d-7a6fc1ee0c56"
      },
      "source": [
        "sentence = [\"granny starting to fear spiders in the garden might be real\", \"game of thrones season finale showing this sunday night\"]\n",
        "sequences = tokenizer.texts_to_sequences(sentence)\n",
        "padded = pad_sequences(sequences, maxlen=max_length, padding=padding_type, truncating=trunc_type)\n",
        "print(model.predict(padded))"
      ],
      "execution_count": 60,
      "outputs": [
        {
          "output_type": "stream",
          "text": [
            "[[0.23265073]\n",
            " [0.00755322]]\n"
          ],
          "name": "stdout"
        }
      ]
    },
    {
      "cell_type": "code",
      "metadata": {
        "id": "MmUcqdQIFsj7"
      },
      "source": [
        ""
      ],
      "execution_count": null,
      "outputs": []
    }
  ]
}